{
 "cells": [
  {
   "cell_type": "markdown",
   "metadata": {},
   "source": [
    "# Exercise 2\n",
    "\n",
    "Work on this before the next lecture on 12 April. We will talk about questions, comments, and solutions during the exercise after the third lecture.\n",
    "\n",
    "Please do form study groups! When you do, make sure you can explain everything in your own words, do not simply copy&paste from others.\n",
    "\n",
    "The solutions to a lot of these problems can probably be found with Google. Please don't. You will not learn a lot by copy&pasting from the internet.\n",
    "\n",
    "If you want to get credit/examination on this course please upload your work to your GitHub repository for this course before the next lecture starts and post a link to your repository in [this thread](https://github.com/wildtreetech/advanced-computing-2018/issues/3). If you worked on things together with others please add their names to the notebook so we can see who formed groups."
   ]
  },
  {
   "cell_type": "code",
   "execution_count": 1,
   "metadata": {
    "collapsed": true
   },
   "outputs": [],
   "source": [
    "%config InlineBackend.figure_format='retina'\n",
    "%matplotlib inline\n",
    "\n",
    "import numpy as np\n",
    "np.random.seed(123)\n",
    "import matplotlib.pyplot as plt\n",
    "plt.rcParams[\"figure.figsize\"] = (8, 8)\n",
    "plt.rcParams[\"font.size\"] = 14\n",
    "from sklearn.utils import check_random_state"
   ]
  },
  {
   "cell_type": "markdown",
   "metadata": {},
   "source": [
    "# Question 1\n",
    "\n",
    "Build your own random forest classifier! Using the `DecisionTreeClassifier` from scikit-learn (http://scikit-learn.org/stable/modules/generated/sklearn.tree.DecisionTreeClassifier.html) construct your own `RandomForestClassifier`.\n",
    "\n",
    "There are two methods for adding randomisation to the tree growing process:\n",
    "\n",
    "* grow each tree on a bootstrap sample of the data\n",
    "* configure each tree to select a subset of features for each split\n",
    "\n",
    "Try out your new `RandomForestClassifier` on the https://archive.ics.uci.edu/ml/datasets/bank+marketing dataset.\n",
    "\n",
    "**Note:** To test your classifier it is a good idea to use a smaller dataset like the `make_blobs` from the lecture. It will run much faster and be easier to debug.\n",
    "\n",
    "* Can you show that a forest of trees that are all the same performs like a single decision tree?\n",
    "* Can you compute the correlation coefficient between scores assigned by two different trees in the forest? In order to gain from buildign a forest you want your trees to not be 100% correlated. Experiment with the different randomisation strategies to check that they work."
   ]
  },
  {
   "cell_type": "code",
   "execution_count": 3,
   "metadata": {
    "collapsed": true
   },
   "outputs": [],
   "source": [
    "from sklearn.tree import DecisionTreeClassifier\n",
    "from sklearn.model_selection import GridSearchCV"
   ]
  },
  {
   "cell_type": "code",
   "execution_count": 4,
   "metadata": {
    "collapsed": true
   },
   "outputs": [],
   "source": [
    "from tempfile import mkstemp\n",
    "from sklearn.tree import export_graphviz\n",
    "import subprocess\n",
    "from IPython.core.display import HTML\n",
    "\n",
    "def draw_tree(clf, feature_names, svg_name=None, **kwargs):\n",
    "    _, name = mkstemp(suffix='.dot')\n",
    "    if svg_name is None:\n",
    "        _, svg_name = mkstemp(suffix='.svg')\n",
    "    export_graphviz(clf, out_file=name,\n",
    "                    feature_names=feature_names,\n",
    "                    **kwargs)\n",
    "    command = [\"dot\", \"-Tsvg\", name, \"-o\", svg_name]\n",
    "    subprocess.check_call(command)\n",
    "    return HTML(open(svg_name).read())"
   ]
  },
  {
   "cell_type": "code",
   "execution_count": 5,
   "metadata": {},
   "outputs": [
    {
     "name": "stdout",
     "output_type": "stream",
     "text": [
      "This data set contains 150 samples.\n",
      "The target names are ['setosa', 'versicolor', 'virginica'] and the features are ['sepal length (cm)', 'sepal width (cm)', 'petal length (cm)', 'petal width (cm)']\n"
     ]
    }
   ],
   "source": [
    "from sklearn.datasets import load_iris\n",
    "\n",
    "data = load_iris()\n",
    "print('This data set contains', len(data.target), 'samples.')\n",
    "print('The target names are', list(data.target_names), 'and the features are', list(data.feature_names))"
   ]
  },
  {
   "cell_type": "code",
   "execution_count": 6,
   "metadata": {
    "collapsed": true
   },
   "outputs": [],
   "source": [
    "from sklearn.model_selection import train_test_split\n",
    "\n",
    "X_train, X_test, y_train, y_test = train_test_split(\n",
    "    data.data, data.target, stratify=data.target, random_state=0)\n",
    "\n",
    "tree = DecisionTreeClassifier(max_leaf_nodes=15, max_depth=10, random_state=1).fit(X_train, y_train)"
   ]
  },
  {
   "cell_type": "code",
   "execution_count": 7,
   "metadata": {},
   "outputs": [
    {
     "data": {
      "text/html": [
       "<?xml version=\"1.0\" encoding=\"UTF-8\" standalone=\"no\"?>\n",
       "<!DOCTYPE svg PUBLIC \"-//W3C//DTD SVG 1.1//EN\"\n",
       " \"http://www.w3.org/Graphics/SVG/1.1/DTD/svg11.dtd\">\n",
       "<!-- Generated by graphviz version 2.38.0 (20140413.2041)\n",
       " -->\n",
       "<!-- Title: Tree Pages: 1 -->\n",
       "<svg width=\"775pt\" height=\"477pt\"\n",
       " viewBox=\"0.00 0.00 775.00 477.00\" xmlns=\"http://www.w3.org/2000/svg\" xmlns:xlink=\"http://www.w3.org/1999/xlink\">\n",
       "<g id=\"graph0\" class=\"graph\" transform=\"scale(1 1) rotate(0) translate(4 473)\">\n",
       "<title>Tree</title>\n",
       "<polygon fill=\"white\" stroke=\"none\" points=\"-4,4 -4,-473 771,-473 771,4 -4,4\"/>\n",
       "<!-- 0 -->\n",
       "<g id=\"node1\" class=\"node\"><title>0</title>\n",
       "<polygon fill=\"none\" stroke=\"black\" points=\"461,-469 312,-469 312,-401 461,-401 461,-469\"/>\n",
       "<text text-anchor=\"middle\" x=\"386.5\" y=\"-453.8\" font-family=\"Times,serif\" font-size=\"14.00\">petal width (cm) &lt;= 0.8</text>\n",
       "<text text-anchor=\"middle\" x=\"386.5\" y=\"-438.8\" font-family=\"Times,serif\" font-size=\"14.00\">gini = 0.667</text>\n",
       "<text text-anchor=\"middle\" x=\"386.5\" y=\"-423.8\" font-family=\"Times,serif\" font-size=\"14.00\">samples = 112</text>\n",
       "<text text-anchor=\"middle\" x=\"386.5\" y=\"-408.8\" font-family=\"Times,serif\" font-size=\"14.00\">value = [37, 37, 38]</text>\n",
       "</g>\n",
       "<!-- 1 -->\n",
       "<g id=\"node2\" class=\"node\"><title>1</title>\n",
       "<polygon fill=\"none\" stroke=\"black\" points=\"367,-357.5 254,-357.5 254,-304.5 367,-304.5 367,-357.5\"/>\n",
       "<text text-anchor=\"middle\" x=\"310.5\" y=\"-342.3\" font-family=\"Times,serif\" font-size=\"14.00\">gini = 0.0</text>\n",
       "<text text-anchor=\"middle\" x=\"310.5\" y=\"-327.3\" font-family=\"Times,serif\" font-size=\"14.00\">samples = 37</text>\n",
       "<text text-anchor=\"middle\" x=\"310.5\" y=\"-312.3\" font-family=\"Times,serif\" font-size=\"14.00\">value = [37, 0, 0]</text>\n",
       "</g>\n",
       "<!-- 0&#45;&gt;1 -->\n",
       "<g id=\"edge1\" class=\"edge\"><title>0&#45;&gt;1</title>\n",
       "<path fill=\"none\" stroke=\"black\" d=\"M361.825,-400.884C353.467,-389.666 344.123,-377.126 335.723,-365.852\"/>\n",
       "<polygon fill=\"black\" stroke=\"black\" points=\"338.296,-363.448 329.515,-357.52 332.683,-367.63 338.296,-363.448\"/>\n",
       "<text text-anchor=\"middle\" x=\"325.902\" y=\"-378.557\" font-family=\"Times,serif\" font-size=\"14.00\">True</text>\n",
       "</g>\n",
       "<!-- 2 -->\n",
       "<g id=\"node3\" class=\"node\"><title>2</title>\n",
       "<polygon fill=\"none\" stroke=\"black\" points=\"540,-365 385,-365 385,-297 540,-297 540,-365\"/>\n",
       "<text text-anchor=\"middle\" x=\"462.5\" y=\"-349.8\" font-family=\"Times,serif\" font-size=\"14.00\">petal width (cm) &lt;= 1.75</text>\n",
       "<text text-anchor=\"middle\" x=\"462.5\" y=\"-334.8\" font-family=\"Times,serif\" font-size=\"14.00\">gini = 0.5</text>\n",
       "<text text-anchor=\"middle\" x=\"462.5\" y=\"-319.8\" font-family=\"Times,serif\" font-size=\"14.00\">samples = 75</text>\n",
       "<text text-anchor=\"middle\" x=\"462.5\" y=\"-304.8\" font-family=\"Times,serif\" font-size=\"14.00\">value = [0, 37, 38]</text>\n",
       "</g>\n",
       "<!-- 0&#45;&gt;2 -->\n",
       "<g id=\"edge2\" class=\"edge\"><title>0&#45;&gt;2</title>\n",
       "<path fill=\"none\" stroke=\"black\" d=\"M411.175,-400.884C417.679,-392.154 424.78,-382.625 431.568,-373.514\"/>\n",
       "<polygon fill=\"black\" stroke=\"black\" points=\"434.52,-375.409 437.689,-365.299 428.907,-371.227 434.52,-375.409\"/>\n",
       "<text text-anchor=\"middle\" x=\"441.302\" y=\"-386.337\" font-family=\"Times,serif\" font-size=\"14.00\">False</text>\n",
       "</g>\n",
       "<!-- 3 -->\n",
       "<g id=\"node4\" class=\"node\"><title>3</title>\n",
       "<polygon fill=\"none\" stroke=\"black\" points=\"447.5,-261 289.5,-261 289.5,-193 447.5,-193 447.5,-261\"/>\n",
       "<text text-anchor=\"middle\" x=\"368.5\" y=\"-245.8\" font-family=\"Times,serif\" font-size=\"14.00\">petal length (cm) &lt;= 4.95</text>\n",
       "<text text-anchor=\"middle\" x=\"368.5\" y=\"-230.8\" font-family=\"Times,serif\" font-size=\"14.00\">gini = 0.142</text>\n",
       "<text text-anchor=\"middle\" x=\"368.5\" y=\"-215.8\" font-family=\"Times,serif\" font-size=\"14.00\">samples = 39</text>\n",
       "<text text-anchor=\"middle\" x=\"368.5\" y=\"-200.8\" font-family=\"Times,serif\" font-size=\"14.00\">value = [0, 36, 3]</text>\n",
       "</g>\n",
       "<!-- 2&#45;&gt;3 -->\n",
       "<g id=\"edge3\" class=\"edge\"><title>2&#45;&gt;3</title>\n",
       "<path fill=\"none\" stroke=\"black\" d=\"M431.981,-296.884C423.69,-287.887 414.616,-278.041 405.988,-268.678\"/>\n",
       "<polygon fill=\"black\" stroke=\"black\" points=\"408.538,-266.281 399.188,-261.299 403.391,-271.025 408.538,-266.281\"/>\n",
       "</g>\n",
       "<!-- 4 -->\n",
       "<g id=\"node11\" class=\"node\"><title>4</title>\n",
       "<polygon fill=\"none\" stroke=\"black\" points=\"636.5,-261 476.5,-261 476.5,-193 636.5,-193 636.5,-261\"/>\n",
       "<text text-anchor=\"middle\" x=\"556.5\" y=\"-245.8\" font-family=\"Times,serif\" font-size=\"14.00\">sepal length (cm) &lt;= 5.95</text>\n",
       "<text text-anchor=\"middle\" x=\"556.5\" y=\"-230.8\" font-family=\"Times,serif\" font-size=\"14.00\">gini = 0.054</text>\n",
       "<text text-anchor=\"middle\" x=\"556.5\" y=\"-215.8\" font-family=\"Times,serif\" font-size=\"14.00\">samples = 36</text>\n",
       "<text text-anchor=\"middle\" x=\"556.5\" y=\"-200.8\" font-family=\"Times,serif\" font-size=\"14.00\">value = [0, 1, 35]</text>\n",
       "</g>\n",
       "<!-- 2&#45;&gt;4 -->\n",
       "<g id=\"edge10\" class=\"edge\"><title>2&#45;&gt;4</title>\n",
       "<path fill=\"none\" stroke=\"black\" d=\"M493.019,-296.884C501.31,-287.887 510.384,-278.041 519.012,-268.678\"/>\n",
       "<polygon fill=\"black\" stroke=\"black\" points=\"521.609,-271.025 525.812,-261.299 516.462,-266.281 521.609,-271.025\"/>\n",
       "</g>\n",
       "<!-- 5 -->\n",
       "<g id=\"node5\" class=\"node\"><title>5</title>\n",
       "<polygon fill=\"none\" stroke=\"black\" points=\"262,-157 107,-157 107,-89 262,-89 262,-157\"/>\n",
       "<text text-anchor=\"middle\" x=\"184.5\" y=\"-141.8\" font-family=\"Times,serif\" font-size=\"14.00\">petal width (cm) &lt;= 1.65</text>\n",
       "<text text-anchor=\"middle\" x=\"184.5\" y=\"-126.8\" font-family=\"Times,serif\" font-size=\"14.00\">gini = 0.056</text>\n",
       "<text text-anchor=\"middle\" x=\"184.5\" y=\"-111.8\" font-family=\"Times,serif\" font-size=\"14.00\">samples = 35</text>\n",
       "<text text-anchor=\"middle\" x=\"184.5\" y=\"-96.8\" font-family=\"Times,serif\" font-size=\"14.00\">value = [0, 34, 1]</text>\n",
       "</g>\n",
       "<!-- 3&#45;&gt;5 -->\n",
       "<g id=\"edge4\" class=\"edge\"><title>3&#45;&gt;5</title>\n",
       "<path fill=\"none\" stroke=\"black\" d=\"M308.76,-192.884C290.995,-183.035 271.393,-172.169 253.11,-162.034\"/>\n",
       "<polygon fill=\"black\" stroke=\"black\" points=\"254.697,-158.912 244.254,-157.125 251.304,-165.034 254.697,-158.912\"/>\n",
       "</g>\n",
       "<!-- 6 -->\n",
       "<g id=\"node8\" class=\"node\"><title>6</title>\n",
       "<polygon fill=\"none\" stroke=\"black\" points=\"446,-157 291,-157 291,-89 446,-89 446,-157\"/>\n",
       "<text text-anchor=\"middle\" x=\"368.5\" y=\"-141.8\" font-family=\"Times,serif\" font-size=\"14.00\">petal width (cm) &lt;= 1.55</text>\n",
       "<text text-anchor=\"middle\" x=\"368.5\" y=\"-126.8\" font-family=\"Times,serif\" font-size=\"14.00\">gini = 0.5</text>\n",
       "<text text-anchor=\"middle\" x=\"368.5\" y=\"-111.8\" font-family=\"Times,serif\" font-size=\"14.00\">samples = 4</text>\n",
       "<text text-anchor=\"middle\" x=\"368.5\" y=\"-96.8\" font-family=\"Times,serif\" font-size=\"14.00\">value = [0, 2, 2]</text>\n",
       "</g>\n",
       "<!-- 3&#45;&gt;6 -->\n",
       "<g id=\"edge7\" class=\"edge\"><title>3&#45;&gt;6</title>\n",
       "<path fill=\"none\" stroke=\"black\" d=\"M368.5,-192.884C368.5,-184.778 368.5,-175.982 368.5,-167.472\"/>\n",
       "<polygon fill=\"black\" stroke=\"black\" points=\"372,-167.299 368.5,-157.299 365,-167.299 372,-167.299\"/>\n",
       "</g>\n",
       "<!-- 9 -->\n",
       "<g id=\"node6\" class=\"node\"><title>9</title>\n",
       "<polygon fill=\"none\" stroke=\"black\" points=\"113,-53 0,-53 0,-0 113,-0 113,-53\"/>\n",
       "<text text-anchor=\"middle\" x=\"56.5\" y=\"-37.8\" font-family=\"Times,serif\" font-size=\"14.00\">gini = 0.0</text>\n",
       "<text text-anchor=\"middle\" x=\"56.5\" y=\"-22.8\" font-family=\"Times,serif\" font-size=\"14.00\">samples = 34</text>\n",
       "<text text-anchor=\"middle\" x=\"56.5\" y=\"-7.8\" font-family=\"Times,serif\" font-size=\"14.00\">value = [0, 34, 0]</text>\n",
       "</g>\n",
       "<!-- 5&#45;&gt;9 -->\n",
       "<g id=\"edge5\" class=\"edge\"><title>5&#45;&gt;9</title>\n",
       "<path fill=\"none\" stroke=\"black\" d=\"M139.732,-88.9485C126.721,-79.3431 112.542,-68.8747 99.634,-59.345\"/>\n",
       "<polygon fill=\"black\" stroke=\"black\" points=\"101.484,-56.3605 91.3603,-53.2367 97.3265,-61.992 101.484,-56.3605\"/>\n",
       "</g>\n",
       "<!-- 10 -->\n",
       "<g id=\"node7\" class=\"node\"><title>10</title>\n",
       "<polygon fill=\"none\" stroke=\"black\" points=\"237.5,-53 131.5,-53 131.5,-0 237.5,-0 237.5,-53\"/>\n",
       "<text text-anchor=\"middle\" x=\"184.5\" y=\"-37.8\" font-family=\"Times,serif\" font-size=\"14.00\">gini = 0.0</text>\n",
       "<text text-anchor=\"middle\" x=\"184.5\" y=\"-22.8\" font-family=\"Times,serif\" font-size=\"14.00\">samples = 1</text>\n",
       "<text text-anchor=\"middle\" x=\"184.5\" y=\"-7.8\" font-family=\"Times,serif\" font-size=\"14.00\">value = [0, 0, 1]</text>\n",
       "</g>\n",
       "<!-- 5&#45;&gt;10 -->\n",
       "<g id=\"edge6\" class=\"edge\"><title>5&#45;&gt;10</title>\n",
       "<path fill=\"none\" stroke=\"black\" d=\"M184.5,-88.9485C184.5,-80.7153 184.5,-71.848 184.5,-63.4814\"/>\n",
       "<polygon fill=\"black\" stroke=\"black\" points=\"188,-63.2367 184.5,-53.2367 181,-63.2367 188,-63.2367\"/>\n",
       "</g>\n",
       "<!-- 7 -->\n",
       "<g id=\"node9\" class=\"node\"><title>7</title>\n",
       "<polygon fill=\"none\" stroke=\"black\" points=\"361.5,-53 255.5,-53 255.5,-0 361.5,-0 361.5,-53\"/>\n",
       "<text text-anchor=\"middle\" x=\"308.5\" y=\"-37.8\" font-family=\"Times,serif\" font-size=\"14.00\">gini = 0.0</text>\n",
       "<text text-anchor=\"middle\" x=\"308.5\" y=\"-22.8\" font-family=\"Times,serif\" font-size=\"14.00\">samples = 2</text>\n",
       "<text text-anchor=\"middle\" x=\"308.5\" y=\"-7.8\" font-family=\"Times,serif\" font-size=\"14.00\">value = [0, 0, 2]</text>\n",
       "</g>\n",
       "<!-- 6&#45;&gt;7 -->\n",
       "<g id=\"edge8\" class=\"edge\"><title>6&#45;&gt;7</title>\n",
       "<path fill=\"none\" stroke=\"black\" d=\"M347.515,-88.9485C341.939,-80.1664 335.905,-70.6629 330.287,-61.815\"/>\n",
       "<polygon fill=\"black\" stroke=\"black\" points=\"333.156,-59.8028 324.841,-53.2367 327.246,-63.5549 333.156,-59.8028\"/>\n",
       "</g>\n",
       "<!-- 8 -->\n",
       "<g id=\"node10\" class=\"node\"><title>8</title>\n",
       "<polygon fill=\"none\" stroke=\"black\" points=\"485.5,-53 379.5,-53 379.5,-0 485.5,-0 485.5,-53\"/>\n",
       "<text text-anchor=\"middle\" x=\"432.5\" y=\"-37.8\" font-family=\"Times,serif\" font-size=\"14.00\">gini = 0.0</text>\n",
       "<text text-anchor=\"middle\" x=\"432.5\" y=\"-22.8\" font-family=\"Times,serif\" font-size=\"14.00\">samples = 2</text>\n",
       "<text text-anchor=\"middle\" x=\"432.5\" y=\"-7.8\" font-family=\"Times,serif\" font-size=\"14.00\">value = [0, 2, 0]</text>\n",
       "</g>\n",
       "<!-- 6&#45;&gt;8 -->\n",
       "<g id=\"edge9\" class=\"edge\"><title>6&#45;&gt;8</title>\n",
       "<path fill=\"none\" stroke=\"black\" d=\"M390.884,-88.9485C396.894,-80.0749 403.402,-70.4648 409.447,-61.5388\"/>\n",
       "<polygon fill=\"black\" stroke=\"black\" points=\"412.36,-63.4792 415.07,-53.2367 406.564,-59.5539 412.36,-63.4792\"/>\n",
       "</g>\n",
       "<!-- 11 -->\n",
       "<g id=\"node12\" class=\"node\"><title>11</title>\n",
       "<polygon fill=\"none\" stroke=\"black\" points=\"635.5,-157 477.5,-157 477.5,-89 635.5,-89 635.5,-157\"/>\n",
       "<text text-anchor=\"middle\" x=\"556.5\" y=\"-141.8\" font-family=\"Times,serif\" font-size=\"14.00\">petal length (cm) &lt;= 4.95</text>\n",
       "<text text-anchor=\"middle\" x=\"556.5\" y=\"-126.8\" font-family=\"Times,serif\" font-size=\"14.00\">gini = 0.444</text>\n",
       "<text text-anchor=\"middle\" x=\"556.5\" y=\"-111.8\" font-family=\"Times,serif\" font-size=\"14.00\">samples = 3</text>\n",
       "<text text-anchor=\"middle\" x=\"556.5\" y=\"-96.8\" font-family=\"Times,serif\" font-size=\"14.00\">value = [0, 1, 2]</text>\n",
       "</g>\n",
       "<!-- 4&#45;&gt;11 -->\n",
       "<g id=\"edge11\" class=\"edge\"><title>4&#45;&gt;11</title>\n",
       "<path fill=\"none\" stroke=\"black\" d=\"M556.5,-192.884C556.5,-184.778 556.5,-175.982 556.5,-167.472\"/>\n",
       "<polygon fill=\"black\" stroke=\"black\" points=\"560,-167.299 556.5,-157.299 553,-167.299 560,-167.299\"/>\n",
       "</g>\n",
       "<!-- 12 -->\n",
       "<g id=\"node15\" class=\"node\"><title>12</title>\n",
       "<polygon fill=\"none\" stroke=\"black\" points=\"767,-149.5 654,-149.5 654,-96.5 767,-96.5 767,-149.5\"/>\n",
       "<text text-anchor=\"middle\" x=\"710.5\" y=\"-134.3\" font-family=\"Times,serif\" font-size=\"14.00\">gini = 0.0</text>\n",
       "<text text-anchor=\"middle\" x=\"710.5\" y=\"-119.3\" font-family=\"Times,serif\" font-size=\"14.00\">samples = 33</text>\n",
       "<text text-anchor=\"middle\" x=\"710.5\" y=\"-104.3\" font-family=\"Times,serif\" font-size=\"14.00\">value = [0, 0, 33]</text>\n",
       "</g>\n",
       "<!-- 4&#45;&gt;12 -->\n",
       "<g id=\"edge14\" class=\"edge\"><title>4&#45;&gt;12</title>\n",
       "<path fill=\"none\" stroke=\"black\" d=\"M606.499,-192.884C624.764,-180.786 645.35,-167.151 663.358,-155.224\"/>\n",
       "<polygon fill=\"black\" stroke=\"black\" points=\"665.565,-157.96 671.97,-149.52 661.7,-152.124 665.565,-157.96\"/>\n",
       "</g>\n",
       "<!-- 13 -->\n",
       "<g id=\"node13\" class=\"node\"><title>13</title>\n",
       "<polygon fill=\"none\" stroke=\"black\" points=\"609.5,-53 503.5,-53 503.5,-0 609.5,-0 609.5,-53\"/>\n",
       "<text text-anchor=\"middle\" x=\"556.5\" y=\"-37.8\" font-family=\"Times,serif\" font-size=\"14.00\">gini = 0.0</text>\n",
       "<text text-anchor=\"middle\" x=\"556.5\" y=\"-22.8\" font-family=\"Times,serif\" font-size=\"14.00\">samples = 1</text>\n",
       "<text text-anchor=\"middle\" x=\"556.5\" y=\"-7.8\" font-family=\"Times,serif\" font-size=\"14.00\">value = [0, 1, 0]</text>\n",
       "</g>\n",
       "<!-- 11&#45;&gt;13 -->\n",
       "<g id=\"edge12\" class=\"edge\"><title>11&#45;&gt;13</title>\n",
       "<path fill=\"none\" stroke=\"black\" d=\"M556.5,-88.9485C556.5,-80.7153 556.5,-71.848 556.5,-63.4814\"/>\n",
       "<polygon fill=\"black\" stroke=\"black\" points=\"560,-63.2367 556.5,-53.2367 553,-63.2367 560,-63.2367\"/>\n",
       "</g>\n",
       "<!-- 14 -->\n",
       "<g id=\"node14\" class=\"node\"><title>14</title>\n",
       "<polygon fill=\"none\" stroke=\"black\" points=\"733.5,-53 627.5,-53 627.5,-0 733.5,-0 733.5,-53\"/>\n",
       "<text text-anchor=\"middle\" x=\"680.5\" y=\"-37.8\" font-family=\"Times,serif\" font-size=\"14.00\">gini = 0.0</text>\n",
       "<text text-anchor=\"middle\" x=\"680.5\" y=\"-22.8\" font-family=\"Times,serif\" font-size=\"14.00\">samples = 2</text>\n",
       "<text text-anchor=\"middle\" x=\"680.5\" y=\"-7.8\" font-family=\"Times,serif\" font-size=\"14.00\">value = [0, 0, 2]</text>\n",
       "</g>\n",
       "<!-- 11&#45;&gt;14 -->\n",
       "<g id=\"edge13\" class=\"edge\"><title>11&#45;&gt;14</title>\n",
       "<path fill=\"none\" stroke=\"black\" d=\"M599.869,-88.9485C612.473,-79.3431 626.209,-68.8747 638.714,-59.345\"/>\n",
       "<polygon fill=\"black\" stroke=\"black\" points=\"640.897,-62.0819 646.729,-53.2367 636.654,-56.5144 640.897,-62.0819\"/>\n",
       "</g>\n",
       "</g>\n",
       "</svg>\n"
      ],
      "text/plain": [
       "<IPython.core.display.HTML object>"
      ]
     },
     "execution_count": 7,
     "metadata": {},
     "output_type": "execute_result"
    }
   ],
   "source": [
    "draw_tree(tree, data.feature_names)"
   ]
  },
  {
   "cell_type": "code",
   "execution_count": 8,
   "metadata": {},
   "outputs": [
    {
     "name": "stdout",
     "output_type": "stream",
     "text": [
      "[0 0 0 0 1 1 1 0 1 1 2 1 1 2 1 0 0 2 0 1 2 1 1 0 2 0 0 1 2 1 0 1 2 2 0 1 2\n",
      " 2] [0 0 0 0 1 1 1 0 1 2 2 2 1 2 1 0 0 2 0 1 2 1 1 0 2 0 0 1 2 1 0 1 2 2 0 1 2\n",
      " 2]\n",
      "The accuracy of prediction of this tree is 94.7368421053 %.\n"
     ]
    }
   ],
   "source": [
    "#now that the tree is trained, make a prediction\n",
    "print(tree.predict(X_test), y_test)\n",
    "print('The accuracy of prediction of this tree is', tree.score(X_test, y_test)*100, \"%.\")"
   ]
  },
  {
   "cell_type": "code",
   "execution_count": 9,
   "metadata": {
    "collapsed": true
   },
   "outputs": [],
   "source": [
    "#Now we will generate a forest of trees and each tree will be grown on a bootstrap sample of the data\n",
    "from sklearn.utils import resample\n",
    "\n",
    "averageScore = []\n",
    "\n",
    "for j in range(1, 200):\n",
    "    \n",
    "    trees= []\n",
    "    scores = []\n",
    "    \n",
    "    for i in range(j):\n",
    "        X_resampled, y_resampled = resample(X_train, y_train)\n",
    "\n",
    "        tree = DecisionTreeClassifier(max_leaf_nodes=15, max_depth=10, random_state=1).fit(X_resampled, y_resampled)\n",
    "        trees.append(tree)\n",
    "        tree.predict(X_test)\n",
    "        scores.append(tree.score(X_test, y_test))\n",
    "\n",
    "    averageScore.append(np.mean(scores))"
   ]
  },
  {
   "cell_type": "code",
   "execution_count": 10,
   "metadata": {},
   "outputs": [
    {
     "data": {
      "text/plain": [
       "<matplotlib.text.Text at 0x7f77a462dc50>"
      ]
     },
     "execution_count": 10,
     "metadata": {},
     "output_type": "execute_result"
    },
    {
     "data": {
      "image/png": "[encoded data removed]",
      "text/plain": [
       "<matplotlib.figure.Figure at 0x7f77a7c03f28>"
      ]
     },
     "metadata": {
      "image/png": {
       "height": 490,
       "width": 518
      }
     },
     "output_type": "display_data"
    }
   ],
   "source": [
    "plt.plot(range(1,200), averageScore)\n",
    "plt.xlabel('Number of trees')\n",
    "plt.ylabel('Score')"
   ]
  },
  {
   "cell_type": "code",
   "execution_count": 11,
   "metadata": {},
   "outputs": [
    {
     "name": "stdout",
     "output_type": "stream",
     "text": [
      "The accuracy of prediction with 50 trees is 95.6842105263 %.\n"
     ]
    }
   ],
   "source": [
    "#choosing 50 trees because seems stable after that\n",
    "trees= []\n",
    "scores = []\n",
    "    \n",
    "for i in range(50):\n",
    "        X_resampled, y_resampled = resample(X_train, y_train)\n",
    "\n",
    "        tree = DecisionTreeClassifier(max_leaf_nodes=15, max_depth=10, random_state=1).fit(X_resampled, y_resampled)\n",
    "        trees.append(tree)\n",
    "        tree.predict(X_test)\n",
    "        scores.append(tree.score(X_test, y_test))\n",
    "\n",
    "print('The accuracy of prediction with 50 trees is', np.mean(scores)*100, '%.')"
   ]
  },
  {
   "cell_type": "code",
   "execution_count": 12,
   "metadata": {},
   "outputs": [
    {
     "name": "stdout",
     "output_type": "stream",
     "text": [
      "The accuracy of prediction with 50 trees is 94.7368421053 %, which is the same as with 1 tree.\n"
     ]
    }
   ],
   "source": [
    "# Now let's do the same but with always the same tree \n",
    "trees= []\n",
    "scores = []\n",
    "    \n",
    "for i in range(50):\n",
    "        X_resampled, y_resampled = resample(X_train, y_train)\n",
    "\n",
    "        tree = DecisionTreeClassifier(max_leaf_nodes=15, max_depth=10, random_state=1).fit(X_train, y_train)\n",
    "        trees.append(tree)\n",
    "        tree.predict(X_test)\n",
    "        scores.append(tree.score(X_test, y_test))\n",
    "\n",
    "print('The accuracy of prediction with 50 trees is', np.mean(scores)*100, '%, which is the same as with 1 tree.')\n"
   ]
  },
  {
   "cell_type": "code",
   "execution_count": 13,
   "metadata": {
    "collapsed": true
   },
   "outputs": [],
   "source": [
    "#Let's show that it never changes\n",
    "averageScore = []\n",
    "\n",
    "for j in range(1, 200):\n",
    "    \n",
    "    trees= []\n",
    "    scores = []\n",
    "    \n",
    "    for i in range(j):\n",
    "        X_resampled, y_resampled = resample(X_train, y_train)\n",
    "\n",
    "        tree = DecisionTreeClassifier(max_leaf_nodes=15, max_depth=10, random_state=1).fit(X_train, y_train)\n",
    "        trees.append(tree)\n",
    "        tree.predict(X_test)\n",
    "        scores.append(tree.score(X_test, y_test))\n",
    "\n",
    "    averageScore.append(np.mean(scores))"
   ]
  },
  {
   "cell_type": "code",
   "execution_count": 14,
   "metadata": {},
   "outputs": [
    {
     "data": {
      "text/plain": [
       "<matplotlib.text.Text at 0x7f77a459b0f0>"
      ]
     },
     "execution_count": 14,
     "metadata": {},
     "output_type": "execute_result"
    },
    {
     "data": {
      "image/png": "[encoded data removed]",
      "text/plain": [
       "<matplotlib.figure.Figure at 0x7f77a4077320>"
      ]
     },
     "metadata": {
      "image/png": {
       "height": 507,
       "width": 873
      }
     },
     "output_type": "display_data"
    }
   ],
   "source": [
    "plt.plot(range(1,200), averageScore)\n",
    "plt.xlabel('Number of trees')\n",
    "plt.ylabel('Score')\n",
    "plt.title('This plot shows that, if we use the same tree, it wont matter how many we use, it is always the same.')"
   ]
  },
  {
   "cell_type": "code",
   "execution_count": 16,
   "metadata": {},
   "outputs": [],
   "source": [
    "#using the tree on the bank data\n",
    "import pandas as pd\n",
    "\n",
    "bankData = pd.read_csv\\\n",
    "('../../../bank-additional/bank-additional.csv', \\\n",
    " sep=';')"
   ]
  },
  {
   "cell_type": "code",
   "execution_count": 19,
   "metadata": {},
   "outputs": [
    {
     "data": {
      "text/html": [
       "<div>\n",
       "<style>\n",
       "    .dataframe thead tr:only-child th {\n",
       "        text-align: right;\n",
       "    }\n",
       "\n",
       "    .dataframe thead th {\n",
       "        text-align: left;\n",
       "    }\n",
       "\n",
       "    .dataframe tbody tr th {\n",
       "        vertical-align: top;\n",
       "    }\n",
       "</style>\n",
       "<table border=\"1\" class=\"dataframe\">\n",
       "  <thead>\n",
       "    <tr style=\"text-align: right;\">\n",
       "      <th></th>\n",
       "      <th>age</th>\n",
       "      <th>job</th>\n",
       "      <th>marital</th>\n",
       "      <th>education</th>\n",
       "      <th>default</th>\n",
       "      <th>housing</th>\n",
       "      <th>loan</th>\n",
       "      <th>contact</th>\n",
       "      <th>month</th>\n",
       "      <th>day_of_week</th>\n",
       "      <th>...</th>\n",
       "      <th>campaign</th>\n",
       "      <th>pdays</th>\n",
       "      <th>previous</th>\n",
       "      <th>poutcome</th>\n",
       "      <th>emp.var.rate</th>\n",
       "      <th>cons.price.idx</th>\n",
       "      <th>cons.conf.idx</th>\n",
       "      <th>euribor3m</th>\n",
       "      <th>nr.employed</th>\n",
       "      <th>y</th>\n",
       "    </tr>\n",
       "  </thead>\n",
       "  <tbody>\n",
       "    <tr>\n",
       "      <th>0</th>\n",
       "      <td>30</td>\n",
       "      <td>blue-collar</td>\n",
       "      <td>married</td>\n",
       "      <td>basic.9y</td>\n",
       "      <td>no</td>\n",
       "      <td>yes</td>\n",
       "      <td>no</td>\n",
       "      <td>cellular</td>\n",
       "      <td>may</td>\n",
       "      <td>fri</td>\n",
       "      <td>...</td>\n",
       "      <td>2</td>\n",
       "      <td>999</td>\n",
       "      <td>0</td>\n",
       "      <td>nonexistent</td>\n",
       "      <td>-1.8</td>\n",
       "      <td>92.893</td>\n",
       "      <td>-46.2</td>\n",
       "      <td>1.313</td>\n",
       "      <td>5099.1</td>\n",
       "      <td>no</td>\n",
       "    </tr>\n",
       "    <tr>\n",
       "      <th>1</th>\n",
       "      <td>39</td>\n",
       "      <td>services</td>\n",
       "      <td>single</td>\n",
       "      <td>high.school</td>\n",
       "      <td>no</td>\n",
       "      <td>no</td>\n",
       "      <td>no</td>\n",
       "      <td>telephone</td>\n",
       "      <td>may</td>\n",
       "      <td>fri</td>\n",
       "      <td>...</td>\n",
       "      <td>4</td>\n",
       "      <td>999</td>\n",
       "      <td>0</td>\n",
       "      <td>nonexistent</td>\n",
       "      <td>1.1</td>\n",
       "      <td>93.994</td>\n",
       "      <td>-36.4</td>\n",
       "      <td>4.855</td>\n",
       "      <td>5191.0</td>\n",
       "      <td>no</td>\n",
       "    </tr>\n",
       "    <tr>\n",
       "      <th>2</th>\n",
       "      <td>25</td>\n",
       "      <td>services</td>\n",
       "      <td>married</td>\n",
       "      <td>high.school</td>\n",
       "      <td>no</td>\n",
       "      <td>yes</td>\n",
       "      <td>no</td>\n",
       "      <td>telephone</td>\n",
       "      <td>jun</td>\n",
       "      <td>wed</td>\n",
       "      <td>...</td>\n",
       "      <td>1</td>\n",
       "      <td>999</td>\n",
       "      <td>0</td>\n",
       "      <td>nonexistent</td>\n",
       "      <td>1.4</td>\n",
       "      <td>94.465</td>\n",
       "      <td>-41.8</td>\n",
       "      <td>4.962</td>\n",
       "      <td>5228.1</td>\n",
       "      <td>no</td>\n",
       "    </tr>\n",
       "    <tr>\n",
       "      <th>3</th>\n",
       "      <td>38</td>\n",
       "      <td>services</td>\n",
       "      <td>married</td>\n",
       "      <td>basic.9y</td>\n",
       "      <td>no</td>\n",
       "      <td>unknown</td>\n",
       "      <td>unknown</td>\n",
       "      <td>telephone</td>\n",
       "      <td>jun</td>\n",
       "      <td>fri</td>\n",
       "      <td>...</td>\n",
       "      <td>3</td>\n",
       "      <td>999</td>\n",
       "      <td>0</td>\n",
       "      <td>nonexistent</td>\n",
       "      <td>1.4</td>\n",
       "      <td>94.465</td>\n",
       "      <td>-41.8</td>\n",
       "      <td>4.959</td>\n",
       "      <td>5228.1</td>\n",
       "      <td>no</td>\n",
       "    </tr>\n",
       "    <tr>\n",
       "      <th>4</th>\n",
       "      <td>47</td>\n",
       "      <td>admin.</td>\n",
       "      <td>married</td>\n",
       "      <td>university.degree</td>\n",
       "      <td>no</td>\n",
       "      <td>yes</td>\n",
       "      <td>no</td>\n",
       "      <td>cellular</td>\n",
       "      <td>nov</td>\n",
       "      <td>mon</td>\n",
       "      <td>...</td>\n",
       "      <td>1</td>\n",
       "      <td>999</td>\n",
       "      <td>0</td>\n",
       "      <td>nonexistent</td>\n",
       "      <td>-0.1</td>\n",
       "      <td>93.200</td>\n",
       "      <td>-42.0</td>\n",
       "      <td>4.191</td>\n",
       "      <td>5195.8</td>\n",
       "      <td>no</td>\n",
       "    </tr>\n",
       "  </tbody>\n",
       "</table>\n",
       "<p>5 rows × 21 columns</p>\n",
       "</div>"
      ],
      "text/plain": [
       "   age          job  marital          education default  housing     loan  \\\n",
       "0   30  blue-collar  married           basic.9y      no      yes       no   \n",
       "1   39     services   single        high.school      no       no       no   \n",
       "2   25     services  married        high.school      no      yes       no   \n",
       "3   38     services  married           basic.9y      no  unknown  unknown   \n",
       "4   47       admin.  married  university.degree      no      yes       no   \n",
       "\n",
       "     contact month day_of_week ...  campaign  pdays  previous     poutcome  \\\n",
       "0   cellular   may         fri ...         2    999         0  nonexistent   \n",
       "1  telephone   may         fri ...         4    999         0  nonexistent   \n",
       "2  telephone   jun         wed ...         1    999         0  nonexistent   \n",
       "3  telephone   jun         fri ...         3    999         0  nonexistent   \n",
       "4   cellular   nov         mon ...         1    999         0  nonexistent   \n",
       "\n",
       "  emp.var.rate  cons.price.idx  cons.conf.idx  euribor3m  nr.employed   y  \n",
       "0         -1.8          92.893          -46.2      1.313       5099.1  no  \n",
       "1          1.1          93.994          -36.4      4.855       5191.0  no  \n",
       "2          1.4          94.465          -41.8      4.962       5228.1  no  \n",
       "3          1.4          94.465          -41.8      4.959       5228.1  no  \n",
       "4         -0.1          93.200          -42.0      4.191       5195.8  no  \n",
       "\n",
       "[5 rows x 21 columns]"
      ]
     },
     "execution_count": 19,
     "metadata": {},
     "output_type": "execute_result"
    }
   ],
   "source": [
    "bankData[:5]"
   ]
  },
  {
   "cell_type": "code",
   "execution_count": 20,
   "metadata": {},
   "outputs": [
    {
     "name": "stderr",
     "output_type": "stream",
     "text": [
      "/home/stephanie/anaconda3/lib/python3.6/site-packages/pandas/core/computation/expressions.py:183: UserWarning: evaluating in Python space because the '*' operator is not supported by numexpr for the bool dtype, use '&' instead\n",
      "  unsupported[op_str]))\n"
     ]
    }
   ],
   "source": [
    "bankData_cleaned = bankData[(bankData['housing'].str.contains(\"unknown\") == False) * \\\n",
    "                            (bankData['default'].str.contains(\"unknown\") == False) * \\\n",
    "                            (bankData['housing'].str.contains(\"unknown\") == False)]"
   ]
  },
  {
   "cell_type": "code",
   "execution_count": 30,
   "metadata": {},
   "outputs": [
    {
     "name": "stderr",
     "output_type": "stream",
     "text": [
      "/home/stephanie/anaconda3/lib/python3.6/site-packages/ipykernel_launcher.py:11: SettingWithCopyWarning: \n",
      "A value is trying to be set on a copy of a slice from a DataFrame.\n",
      "Try using .loc[row_indexer,col_indexer] = value instead\n",
      "\n",
      "See the caveats in the documentation: http://pandas.pydata.org/pandas-docs/stable/indexing.html#indexing-view-versus-copy\n",
      "  # This is added back by InteractiveShellApp.init_path()\n"
     ]
    }
   ],
   "source": [
    "#Converting strings to encoded numbers\n",
    "\n",
    "features = bankData_cleaned.columns.values\n",
    "\n",
    "from sklearn.preprocessing import LabelEncoder\n",
    "\n",
    "for feature in features:\n",
    "\n",
    "    enc = LabelEncoder()\n",
    "    enc.fit(bankData_cleaned[feature])\n",
    "    bankData_cleaned[feature] = enc.transform(bankData_cleaned[feature])"
   ]
  },
  {
   "cell_type": "code",
   "execution_count": 31,
   "metadata": {},
   "outputs": [],
   "source": [
    "features = features[features != 'y']\n",
    "X = bankData_cleaned[features]\n",
    "y = bankData_cleaned['y']"
   ]
  },
  {
   "cell_type": "code",
   "execution_count": 32,
   "metadata": {
    "collapsed": true
   },
   "outputs": [],
   "source": [
    "X_train, X_test, y_train, y_test = train_test_split(\n",
    "    X, y, stratify=y, random_state=0)"
   ]
  },
  {
   "cell_type": "code",
   "execution_count": 33,
   "metadata": {},
   "outputs": [
    {
     "name": "stdout",
     "output_type": "stream",
     "text": [
      "The accuracy of prediction with 50 trees is 89.3868974042 %.\n"
     ]
    }
   ],
   "source": [
    "#choosing 50 trees because seems stable after that\n",
    "trees= []\n",
    "scores = []\n",
    "    \n",
    "for i in range(50):\n",
    "        X_resampled, y_resampled = resample(X_train, y_train)\n",
    "\n",
    "        tree = DecisionTreeClassifier(max_leaf_nodes=15, max_depth=10, random_state=1).fit(X_resampled, y_resampled)\n",
    "        trees.append(tree)\n",
    "        tree.predict(X_test)\n",
    "        scores.append(tree.score(X_test, y_test))\n",
    "\n",
    "print('The accuracy of prediction with 50 trees is', np.mean(scores)*100, '%.')"
   ]
  },
  {
   "cell_type": "markdown",
   "metadata": {},
   "source": [
    "# Question 2\n",
    "\n",
    "Use the ready made `RandomForestClassifier` from scikit-learn to create the best model you can for the Bank Marketing dataset. Use `GridSearchCV` (or any other method) to tune your model and possible pre-processing steps. Make sure you have a test set to use after you are done tuning to estimate your generalisation error."
   ]
  },
  {
   "cell_type": "code",
   "execution_count": 23,
   "metadata": {
    "collapsed": true
   },
   "outputs": [],
   "source": [
    "from sklearn.tree import DecisionTreeClassifier\n",
    "from sklearn.model_selection import GridSearchCV\n",
    "from sklearn.ensemble import RandomForestClassifier\n",
    "from sklearn.model_selection import train_test_split"
   ]
  },
  {
   "cell_type": "code",
   "execution_count": 34,
   "metadata": {
    "collapsed": true
   },
   "outputs": [],
   "source": [
    "X_train, X_test, y_train, y_test = train_test_split(\n",
    "    X, y, stratify=y, random_state=0)"
   ]
  },
  {
   "cell_type": "code",
   "execution_count": 35,
   "metadata": {},
   "outputs": [
    {
     "name": "stdout",
     "output_type": "stream",
     "text": [
      "Best parameters: {'criterion': 'entropy', 'max_depth': 8, 'max_features': 'auto', 'n_estimators': 200}\n",
      "Score with best parameters: 0.899876390606\n"
     ]
    }
   ],
   "source": [
    "#tunning the random forest\n",
    "\n",
    "rfc=RandomForestClassifier()\n",
    "\n",
    "p = { \n",
    "    'n_estimators': [200, 500],\n",
    "    'max_features': ['auto', 'sqrt', 'log2'],\n",
    "    'max_depth' : [4,5,6,7,8],\n",
    "    'criterion' :['gini', 'entropy']\n",
    "}\n",
    "\n",
    "CV_rfc = GridSearchCV(RandomForestClassifier(), param_grid=p)\n",
    "CV_rfc.fit(X_train, y_train)\n",
    "\n",
    "print('Best parameters:', CV_rfc.best_params_)\n",
    "print('Score with best parameters:', CV_rfc.best_estimator_.score(X_test, y_test))"
   ]
  },
  {
   "cell_type": "markdown",
   "metadata": {},
   "source": [
    "# Question 3\n",
    "\n",
    "Compare the feature importances calculated by a `RandomForestClassifier`, `ExtraTreesClassifier` and `GradientBoostedTreesClassifier` on the california housing dataset. You might have to tune `n_estimators` and other hyper-parameters to get good performance.\n",
    "\n",
    "Plot each of the features as a scatter plot with the target to learn about each variable. You can also make a plot of two features and use the target as colour.\n",
    "\n",
    "Fit a model and tune the model complexity using a training and test data set.\n",
    "\n",
    "Explore the feature importances and partial dependences that are important to the house price."
   ]
  },
  {
   "cell_type": "code",
   "execution_count": 50,
   "metadata": {},
   "outputs": [
    {
     "name": "stdout",
     "output_type": "stream",
     "text": [
      "California housing dataset.\n",
      "\n",
      "The original database is available from StatLib\n",
      "\n",
      "    http://lib.stat.cmu.edu/\n",
      "\n",
      "The data contains 20,640 observations on 9 variables.\n",
      "\n",
      "This dataset contains the average house value as target variable\n",
      "and the following input variables (features): average income,\n",
      "housing average age, average rooms, average bedrooms, population,\n",
      "average occupation, latitude, and longitude in that order.\n",
      "\n",
      "References\n",
      "----------\n",
      "\n",
      "Pace, R. Kelley and Ronald Barry, Sparse Spatial Autoregressions,\n",
      "Statistics and Probability Letters, 33 (1997) 291-297.\n",
      "\n",
      "\n"
     ]
    }
   ],
   "source": [
    "from sklearn.datasets.california_housing import fetch_california_housing\n",
    "from sklearn.ensemble import RandomForestRegressor, ExtraTreesRegressor, GradientBoostingRegressor\n",
    "\n",
    "cal_housing = fetch_california_housing()\n",
    "\n",
    "# if the above doesn't work, download `cal_housing_py3.pkl` from the GitHub repository\n",
    "# and adjust the path to the downloaded file which is passed to `load()`\n",
    "# uncomment the following lines\n",
    "#from sklearn.externals.joblib import load\n",
    "#d = load('/home/username/Downloads/cal_housing_py3.pkz')\n",
    "#X, y = d[:,1:], d[:,0]/100000\n",
    "#X[:, 2] /= X[:, 5]\n",
    "#X[:, 3] /= X[:, 5]\n",
    "#X[:, 5] = X[:, 4] / X[:, 5]\n",
    "\n",
    "print(cal_housing['DESCR'])"
   ]
  },
  {
   "cell_type": "code",
   "execution_count": 51,
   "metadata": {},
   "outputs": [
    {
     "name": "stdout",
     "output_type": "stream",
     "text": [
      "This data set contains 20640 samples.\n",
      "The feature names are ['MedInc', 'HouseAge', 'AveRooms', 'AveBedrms', 'Population', 'AveOccup', 'Latitude', 'Longitude']\n"
     ]
    }
   ],
   "source": [
    "print('This data set contains', len(cal_housing.target), 'samples.')\n",
    "print('The feature names are', list(cal_housing.feature_names))"
   ]
  },
  {
   "cell_type": "code",
   "execution_count": 52,
   "metadata": {
    "collapsed": true
   },
   "outputs": [],
   "source": [
    "X = cal_housing.data\n",
    "y= cal_housing.target\n",
    "\n",
    "X_train, X_test, y_train, y_test = train_test_split(\n",
    "    X, y)"
   ]
  },
  {
   "cell_type": "code",
   "execution_count": 53,
   "metadata": {},
   "outputs": [
    {
     "name": "stdout",
     "output_type": "stream",
     "text": [
      "Using regressor: GradientBoostingRegressor\n",
      "Best paramaters: {'max_depth': 8, 'max_features': 'log2', 'n_estimators': 60}\n",
      "Score with best parameters: 0.757869588406\n"
     ]
    }
   ],
   "source": [
    "regressor = RandomForestRegressor()\n",
    "\n",
    "p = { \n",
    "    'n_estimators': np.arange(10, 150, 10),\n",
    "    'max_features': ['auto', 'sqrt', 'log2'],\n",
    "    'max_depth' : [4,5,6,7,8]\n",
    "    }\n",
    "\n",
    "CV_rgr = GridSearchCV(regressor, param_grid=p)\n",
    "CV_rgr.fit(X_train, y_train)\n",
    "CV_rgr.predict(X_test)\n",
    "rgr_best = CV_rgr.best_estimator_\n",
    "print('Using regressor:', rgr.__class__.__name__)\n",
    "print('Best paramaters:', CV_rgr.best_params_)\n",
    "print('Score with best parameters:', rgr_best.score(X_test, y_test))\n",
    "randomForestBestEstim = rgr_best"
   ]
  },
  {
   "cell_type": "code",
   "execution_count": 54,
   "metadata": {},
   "outputs": [
    {
     "name": "stdout",
     "output_type": "stream",
     "text": [
      "Using regressor: GradientBoostingRegressor\n",
      "Best paramaters: {'max_depth': 8, 'max_features': 'auto', 'n_estimators': 140}\n",
      "Score with best parameters: 0.642759867125\n"
     ]
    }
   ],
   "source": [
    "regressor = ExtraTreesRegressor()\n",
    "\n",
    "p = { \n",
    "    'n_estimators': np.arange(10, 150, 10),\n",
    "    'max_features': ['auto', 'sqrt', 'log2'],\n",
    "    'max_depth' : [4,5,6,7,8]\n",
    "    }\n",
    "\n",
    "CV_rgr = GridSearchCV(regressor, param_grid=p)\n",
    "CV_rgr.fit(X_train, y_train)\n",
    "CV_rgr.predict(X_test)\n",
    "rgr_best = CV_rgr.best_estimator_\n",
    "print('Using regressor:', rgr.__class__.__name__)\n",
    "print('Best paramaters:', CV_rgr.best_params_)\n",
    "print('Score with best parameters:', rgr_best.score(X_test, y_test))\n",
    "extraTreesBestEstim = rgr_best\n"
   ]
  },
  {
   "cell_type": "code",
   "execution_count": 55,
   "metadata": {},
   "outputs": [
    {
     "name": "stdout",
     "output_type": "stream",
     "text": [
      "Using regressor: GradientBoostingRegressor\n",
      "Best parameters: {'learning_rate': 0.05, 'max_depth': 7, 'max_features': 'log2'}\n",
      "Score with best parameters: 0.849300947915\n"
     ]
    }
   ],
   "source": [
    "p = { \n",
    "    'max_features': ['auto', 'sqrt', 'log2'],\n",
    "    'learning_rate': [0.1, 0.05, 0.02, 0.01],\n",
    "    'max_depth' : [4,5,6,7,8],\n",
    "}\n",
    "\n",
    "rgr = GradientBoostingRegressor(n_estimators=500)\n",
    "\n",
    "CV_rgr = GridSearchCV(rgr, param_grid=p)\n",
    "CV_rgr.fit(X_train, y_train)\n",
    "CV_rgr.predict(X_test)\n",
    "#score = CV_rfc.scores(X_test, y_test)\n",
    "rgr_best = CV_rgr.best_estimator_\n",
    "\n",
    "print('Using regressor:', rgr.__class__.__name__)\n",
    "print('Best parameters:', CV_rgr.best_params_)\n",
    "print('Score with best parameters:', CV_rgr.best_estimator_.score(X_test, y_test))\n",
    "\n",
    "gradientBoostingBestEstim = rgr_best"
   ]
  },
  {
   "cell_type": "code",
   "execution_count": 56,
   "metadata": {
    "collapsed": true
   },
   "outputs": [],
   "source": [
    "def createDict(rgr):\n",
    "    d = {'MedInc': [rgr.feature_importances_[0]], 'HouseAge': [rgr.feature_importances_[1]], 'AveRooms':\\\n",
    "    [rgr.feature_importances_[2]], 'AveBedrms': [rgr.feature_importances_[3]], 'Population': [rgr.feature_importances_[4]]\\\n",
    "     , 'AveOccup': [rgr.feature_importances_[5]], 'Latitude': [rgr.feature_importances_[6]], \\\n",
    "     'Longitude': [rgr.feature_importances_[7]]}\n",
    "    return d"
   ]
  },
  {
   "cell_type": "code",
   "execution_count": 57,
   "metadata": {},
   "outputs": [
    {
     "data": {
      "text/plain": [
       "['MedInc',\n",
       " 'HouseAge',\n",
       " 'AveRooms',\n",
       " 'AveBedrms',\n",
       " 'Population',\n",
       " 'AveOccup',\n",
       " 'Latitude',\n",
       " 'Longitude']"
      ]
     },
     "execution_count": 57,
     "metadata": {},
     "output_type": "execute_result"
    }
   ],
   "source": [
    "rf_feature_importance = createDict(randomForestBestEstim)\n",
    "list(rf_feature_importance.keys())"
   ]
  },
  {
   "cell_type": "code",
   "execution_count": 58,
   "metadata": {},
   "outputs": [
    {
     "name": "stdout",
     "output_type": "stream",
     "text": [
      "(-0.35, 8.35)\n"
     ]
    },
    {
     "data": {
      "image/png": "[encoded data removed]",
      "text/plain": [
       "<matplotlib.figure.Figure at 0x7f7792bb9ef0>"
      ]
     },
     "metadata": {
      "image/png": {
       "height": 524,
       "width": 509
      }
     },
     "output_type": "display_data"
    }
   ],
   "source": [
    "fig = plt.figure()\n",
    "ax = fig.add_subplot(111)\n",
    "\n",
    "N=len(randomForestBestEstim.feature_importances_)\n",
    "\n",
    "ind = np.arange(N)      \n",
    "width = 0.35                      \n",
    "\n",
    "## the bars\n",
    "rects1 = ax.bar(ind, randomForestBestEstim.feature_importances_, width,\n",
    "                color='black', label='Random Forest')\n",
    "\n",
    "rects2 = ax.bar(ind+width, extraTreesBestEstim.feature_importances_, width,\n",
    "                    color='red', label ='Extra Trees')\n",
    "\n",
    "rects3 = ax.bar(ind+2*width, gradientBoostingBestEstim.feature_importances_, width,\n",
    "                    color='blue', label='Gradient Boosting')\n",
    "\n",
    "ax.set_xlim(-width,len(ind)+width)\n",
    "print(ax.set_xlim(-width,len(ind)+width))\n",
    "ax.set_ylabel('Feature importance')\n",
    "\n",
    "xTickMarks = list(rf_feature_importance.keys())\n",
    "ax.set_xticks(ind+width)\n",
    "xtickNames = ax.set_xticklabels(xTickMarks)\n",
    "plt.setp(xtickNames, rotation=45, fontsize=14)\n",
    "\n",
    "ax.legend()\n",
    "plt.show()"
   ]
  },
  {
   "cell_type": "markdown",
   "metadata": {},
   "source": [
    "We see that the most important feature for the random forest and the extra trees is medinc. The importance of features is almost constant for the gradient boosting.  "
   ]
  },
  {
   "cell_type": "markdown",
   "metadata": {},
   "source": [
    "# Question 4\n",
    "\n",
    "Competition time! Use any model you want (and understand) to make the best model you can to predict the target in the below dataset.\n",
    "\n",
    "Each student's submission will be ranked by:\n",
    "* their performance (using [AUC ROC](http://scikit-learn.org/stable/modules/generated/sklearn.metrics.roc_auc_score.html) as metric) and\n",
    "* how well they did at predicting their generalisation error.\n",
    "\n",
    "Your final rank will be the average of your two ranks.\n",
    "\n",
    "To evaluate how good you did at predicting your generalisation error Tim will release a fresh test data set after the hand-in deadline. You can then re-run your trained classifier on that data and score its performance. We will rank students by the difference between that score and their predicted score.\n",
    "\n",
    "You can read in the data using the `pandas` library. The final column of the file contains the target (zero or one)."
   ]
  },
  {
   "cell_type": "code",
   "execution_count": 43,
   "metadata": {},
   "outputs": [
    {
     "data": {
      "text/html": [
       "<div>\n",
       "<style>\n",
       "    .dataframe thead tr:only-child th {\n",
       "        text-align: right;\n",
       "    }\n",
       "\n",
       "    .dataframe thead th {\n",
       "        text-align: left;\n",
       "    }\n",
       "\n",
       "    .dataframe tbody tr th {\n",
       "        vertical-align: top;\n",
       "    }\n",
       "</style>\n",
       "<table border=\"1\" class=\"dataframe\">\n",
       "  <thead>\n",
       "    <tr style=\"text-align: right;\">\n",
       "      <th></th>\n",
       "      <th>0</th>\n",
       "      <th>1</th>\n",
       "      <th>2</th>\n",
       "      <th>3</th>\n",
       "      <th>4</th>\n",
       "      <th>5</th>\n",
       "      <th>6</th>\n",
       "      <th>7</th>\n",
       "      <th>8</th>\n",
       "      <th>9</th>\n",
       "      <th>...</th>\n",
       "      <th>38</th>\n",
       "      <th>39</th>\n",
       "      <th>40</th>\n",
       "      <th>41</th>\n",
       "      <th>42</th>\n",
       "      <th>43</th>\n",
       "      <th>44</th>\n",
       "      <th>45</th>\n",
       "      <th>47</th>\n",
       "      <th>48</th>\n",
       "    </tr>\n",
       "  </thead>\n",
       "  <tbody>\n",
       "    <tr>\n",
       "      <th>0</th>\n",
       "      <td>0.000576</td>\n",
       "      <td>0.999939</td>\n",
       "      <td>12.769232</td>\n",
       "      <td>0.584357</td>\n",
       "      <td>0.136273</td>\n",
       "      <td>13.359463</td>\n",
       "      <td>3.358099</td>\n",
       "      <td>14655.587891</td>\n",
       "      <td>0.005370</td>\n",
       "      <td>0.041032</td>\n",
       "      <td>...</td>\n",
       "      <td>376.700348</td>\n",
       "      <td>58935.695312</td>\n",
       "      <td>74241.648438</td>\n",
       "      <td>4598.116699</td>\n",
       "      <td>2.897916</td>\n",
       "      <td>2.932629</td>\n",
       "      <td>3.193417</td>\n",
       "      <td>267</td>\n",
       "      <td>0.381424</td>\n",
       "      <td>0</td>\n",
       "    </tr>\n",
       "    <tr>\n",
       "      <th>1</th>\n",
       "      <td>0.001807</td>\n",
       "      <td>0.999996</td>\n",
       "      <td>18.585171</td>\n",
       "      <td>0.368892</td>\n",
       "      <td>0.054991</td>\n",
       "      <td>3.600483</td>\n",
       "      <td>6.781577</td>\n",
       "      <td>4145.290527</td>\n",
       "      <td>0.030382</td>\n",
       "      <td>0.034570</td>\n",
       "      <td>...</td>\n",
       "      <td>2028.605591</td>\n",
       "      <td>20553.839844</td>\n",
       "      <td>12501.964844</td>\n",
       "      <td>28162.607422</td>\n",
       "      <td>3.584545</td>\n",
       "      <td>3.010242</td>\n",
       "      <td>3.322494</td>\n",
       "      <td>128</td>\n",
       "      <td>0.781520</td>\n",
       "      <td>1</td>\n",
       "    </tr>\n",
       "    <tr>\n",
       "      <th>2</th>\n",
       "      <td>0.000858</td>\n",
       "      <td>0.999304</td>\n",
       "      <td>4.794842</td>\n",
       "      <td>0.149876</td>\n",
       "      <td>0.172385</td>\n",
       "      <td>16.130068</td>\n",
       "      <td>3.723242</td>\n",
       "      <td>4936.734375</td>\n",
       "      <td>0.017344</td>\n",
       "      <td>0.027622</td>\n",
       "      <td>...</td>\n",
       "      <td>2874.089600</td>\n",
       "      <td>7566.020020</td>\n",
       "      <td>11801.971680</td>\n",
       "      <td>16086.186523</td>\n",
       "      <td>2.700943</td>\n",
       "      <td>2.920070</td>\n",
       "      <td>2.407294</td>\n",
       "      <td>254</td>\n",
       "      <td>0.508650</td>\n",
       "      <td>0</td>\n",
       "    </tr>\n",
       "    <tr>\n",
       "      <th>3</th>\n",
       "      <td>0.001519</td>\n",
       "      <td>0.999969</td>\n",
       "      <td>15.656528</td>\n",
       "      <td>0.312301</td>\n",
       "      <td>0.125831</td>\n",
       "      <td>8.113082</td>\n",
       "      <td>5.763765</td>\n",
       "      <td>4948.376465</td>\n",
       "      <td>0.035185</td>\n",
       "      <td>0.038973</td>\n",
       "      <td>...</td>\n",
       "      <td>1488.869995</td>\n",
       "      <td>19161.880859</td>\n",
       "      <td>18598.472656</td>\n",
       "      <td>17658.548828</td>\n",
       "      <td>3.108439</td>\n",
       "      <td>2.932674</td>\n",
       "      <td>3.164568</td>\n",
       "      <td>531</td>\n",
       "      <td>0.682114</td>\n",
       "      <td>0</td>\n",
       "    </tr>\n",
       "    <tr>\n",
       "      <th>4</th>\n",
       "      <td>0.000936</td>\n",
       "      <td>0.999978</td>\n",
       "      <td>8.998086</td>\n",
       "      <td>0.475861</td>\n",
       "      <td>0.065347</td>\n",
       "      <td>3.863127</td>\n",
       "      <td>3.675261</td>\n",
       "      <td>4757.155762</td>\n",
       "      <td>0.022795</td>\n",
       "      <td>0.046165</td>\n",
       "      <td>...</td>\n",
       "      <td>342.455688</td>\n",
       "      <td>12651.365234</td>\n",
       "      <td>33099.660156</td>\n",
       "      <td>10722.979492</td>\n",
       "      <td>2.873017</td>\n",
       "      <td>3.074762</td>\n",
       "      <td>4.136894</td>\n",
       "      <td>160</td>\n",
       "      <td>0.633693</td>\n",
       "      <td>1</td>\n",
       "    </tr>\n",
       "  </tbody>\n",
       "</table>\n",
       "<p>5 rows × 48 columns</p>\n",
       "</div>"
      ],
      "text/plain": [
       "         0         1          2         3         4          5         6   \\\n",
       "0  0.000576  0.999939  12.769232  0.584357  0.136273  13.359463  3.358099   \n",
       "1  0.001807  0.999996  18.585171  0.368892  0.054991   3.600483  6.781577   \n",
       "2  0.000858  0.999304   4.794842  0.149876  0.172385  16.130068  3.723242   \n",
       "3  0.001519  0.999969  15.656528  0.312301  0.125831   8.113082  5.763765   \n",
       "4  0.000936  0.999978   8.998086  0.475861  0.065347   3.863127  3.675261   \n",
       "\n",
       "             7         8         9  ...           38            39  \\\n",
       "0  14655.587891  0.005370  0.041032 ...   376.700348  58935.695312   \n",
       "1   4145.290527  0.030382  0.034570 ...  2028.605591  20553.839844   \n",
       "2   4936.734375  0.017344  0.027622 ...  2874.089600   7566.020020   \n",
       "3   4948.376465  0.035185  0.038973 ...  1488.869995  19161.880859   \n",
       "4   4757.155762  0.022795  0.046165 ...   342.455688  12651.365234   \n",
       "\n",
       "             40            41        42        43        44   45        47  48  \n",
       "0  74241.648438   4598.116699  2.897916  2.932629  3.193417  267  0.381424   0  \n",
       "1  12501.964844  28162.607422  3.584545  3.010242  3.322494  128  0.781520   1  \n",
       "2  11801.971680  16086.186523  2.700943  2.920070  2.407294  254  0.508650   0  \n",
       "3  18598.472656  17658.548828  3.108439  2.932674  3.164568  531  0.682114   0  \n",
       "4  33099.660156  10722.979492  2.873017  3.074762  4.136894  160  0.633693   1  \n",
       "\n",
       "[5 rows x 48 columns]"
      ]
     },
     "execution_count": 43,
     "metadata": {},
     "output_type": "execute_result"
    }
   ],
   "source": [
    "import pandas as pd\n",
    "\n",
    "# you might have to adjust the path to the dataset\n",
    "df_train = pd.read_csv(\"../../data/challenge-train.csv\", header=None)\n",
    "df_train = df_train.drop([46], axis=1)\n",
    "df_train.head()"
   ]
  },
  {
   "cell_type": "code",
   "execution_count": 44,
   "metadata": {
    "collapsed": true
   },
   "outputs": [],
   "source": [
    "# convert the pandas dataframe to a numpy array\n",
    "# make sure you do not include the final column\n",
    "# in your training data (X) but store it as target (y)\n",
    "X = df_train.as_matrix()[:, :-1]\n",
    "y = df_train.as_matrix()[:, -1]"
   ]
  },
  {
   "cell_type": "code",
   "execution_count": 45,
   "metadata": {},
   "outputs": [
    {
     "data": {
      "text/plain": [
       "(45000, 47)"
      ]
     },
     "execution_count": 45,
     "metadata": {},
     "output_type": "execute_result"
    }
   ],
   "source": [
    "X.shape"
   ]
  },
  {
   "cell_type": "code",
   "execution_count": 46,
   "metadata": {},
   "outputs": [
    {
     "data": {
      "text/plain": [
       "(45000,)"
      ]
     },
     "execution_count": 46,
     "metadata": {},
     "output_type": "execute_result"
    }
   ],
   "source": [
    "y.shape"
   ]
  },
  {
   "cell_type": "code",
   "execution_count": 47,
   "metadata": {},
   "outputs": [
    {
     "name": "stderr",
     "output_type": "stream",
     "text": [
      "/home/stephanie/anaconda3/lib/python3.6/site-packages/sklearn/model_selection/_split.py:2010: FutureWarning: From version 0.21, test_size will always complement train_size unless both are specified.\n",
      "  FutureWarning)\n"
     ]
    }
   ],
   "source": [
    "X_train, X_test, y_train, y_test = train_test_split(X, y, train_size=0.3)"
   ]
  },
  {
   "cell_type": "code",
   "execution_count": 49,
   "metadata": {},
   "outputs": [
    {
     "name": "stdout",
     "output_type": "stream",
     "text": [
      "{'learning_rate': 0.02, 'max_depth': 7, 'max_features': 'sqrt'} 0.689853550829\n"
     ]
    }
   ],
   "source": [
    "p = { \n",
    "    'max_features': ['auto', 'sqrt', 'log2'],\n",
    "    'learning_rate': [0.1, 0.05, 0.02, 0.01],\n",
    "    'max_depth' : [4,5,6,7,8],\n",
    "}\n",
    "\n",
    "rgr = GradientBoostingRegressor(n_estimators=1000)\n",
    "\n",
    "CV_rgr = GridSearchCV(rgr, param_grid=p)\n",
    "CV_rgr.fit(X_train, y_train)\n",
    "CV_rgr.predict(X_test)\n",
    "    \n",
    "print(CV_rgr.best_params_, CV_rgr.best_estimator_.score(X_test, y_test))    "
   ]
  },
  {
   "cell_type": "code",
   "execution_count": 60,
   "metadata": {},
   "outputs": [
    {
     "name": "stdout",
     "output_type": "stream",
     "text": [
      "I expect a score of 68.9%.\n"
     ]
    }
   ],
   "source": [
    "print('I expect a score of 68.9%.')"
   ]
  },
  {
   "cell_type": "code",
   "execution_count": null,
   "metadata": {
    "collapsed": true
   },
   "outputs": [],
   "source": []
  }
 ],
 "metadata": {
  "kernelspec": {
   "display_name": "Python 3",
   "language": "python",
   "name": "python3"
  },
  "language_info": {
   "codemirror_mode": {
    "name": "ipython",
    "version": 3
   },
   "file_extension": ".py",
   "mimetype": "text/x-python",
   "name": "python",
   "nbconvert_exporter": "python",
   "pygments_lexer": "ipython3",
   "version": "3.6.2"
  }
 },
 "nbformat": 4,
 "nbformat_minor": 2
}
